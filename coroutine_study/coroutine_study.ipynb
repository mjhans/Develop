{
 "cells": [
  {
   "cell_type": "code",
   "execution_count": 4,
   "metadata": {
    "collapsed": true
   },
   "outputs": [],
   "source": [
    "from functools import wraps\n",
    "def coroutine(func):\n",
    "\t\"\"\"Decorator: primes `func` by advancing to first `yield`\"\"\"\n",
    "\t@wraps(func)\n",
    "\tdef primer(*args,**kwargs):\n",
    "\t\tgen = func(*args,**kwargs)\n",
    "\t\tnext(gen)\n",
    "\t\treturn gen\n",
    "\treturn primer"
   ]
  },
  {
   "cell_type": "code",
   "execution_count": 5,
   "metadata": {},
   "outputs": [],
   "source": [
    "from collections import namedtuple\n",
    "Result = namedtuple('Result', 'count average')"
   ]
  },
  {
   "cell_type": "code",
   "execution_count": 6,
   "metadata": {},
   "outputs": [],
   "source": [
    "@coroutine\n",
    "def averager():\n",
    "\ttotal = 0.0\n",
    "\tcount = 0\n",
    "\taverage = None\n",
    "\twhile True:\n",
    "\t\tterm = yield average\n",
    "\t\tif term is None:\n",
    "\t\t\tbreak\n",
    "\t\ttotal += term\n",
    "\t\tcount += 1\n",
    "\t\taverage = total / count\n",
    "\t\n",
    "\treturn Result(count, average)"
   ]
  },
  {
   "cell_type": "code",
   "execution_count": 7,
   "metadata": {},
   "outputs": [
    {
     "name": "stdout",
     "output_type": "stream",
     "text": [
      "Result(count=5, average=56.0)\n"
     ]
    }
   ],
   "source": [
    "coro_avg = averager()\n",
    "coro_avg.send(30)\n",
    "coro_avg.send(40)\n",
    "coro_avg.send(70)\n",
    "coro_avg.send(70)\n",
    "coro_avg.send(70)\n",
    "\n",
    "try:\n",
    "\tcoro_avg.send(None)\n",
    "except StopIteration as exc:\n",
    "\tresult = exc.value\n",
    "\n",
    "print(result)"
   ]
  },
  {
   "cell_type": "code",
   "execution_count": 8,
   "metadata": {},
   "outputs": [],
   "source": [
    "def gen():\n",
    "\tfor c in 'AB':\n",
    "\t\tyield c\n",
    "\tfor i in range(1, 3):\n",
    "\t\tyield i"
   ]
  },
  {
   "cell_type": "code",
   "execution_count": 9,
   "metadata": {},
   "outputs": [],
   "source": [
    "def gen():\n",
    "\tyield from 'AB'\n",
    "\tyield from range(1,3)"
   ]
  },
  {
   "cell_type": "code",
   "execution_count": 14,
   "metadata": {},
   "outputs": [
    {
     "name": "stdout",
     "output_type": "stream",
     "text": [
      "A\nB\n1\n2\n"
     ]
    }
   ],
   "source": [
    "g = gen()\n",
    "for i in g:\n",
    "\tprint(i)"
   ]
  },
  {
   "cell_type": "code",
   "execution_count": null,
   "metadata": {},
   "outputs": [],
   "source": [
    ""
   ]
  }
 ],
 "metadata": {
  "kernelspec": {
   "display_name": "Python 2",
   "language": "python",
   "name": "python2"
  },
  "language_info": {
   "codemirror_mode": {
    "name": "ipython",
    "version": 2.0
   },
   "file_extension": ".py",
   "mimetype": "text/x-python",
   "name": "python",
   "nbconvert_exporter": "python",
   "pygments_lexer": "ipython2",
   "version": "2.7.6"
  }
 },
 "nbformat": 4,
 "nbformat_minor": 0
}